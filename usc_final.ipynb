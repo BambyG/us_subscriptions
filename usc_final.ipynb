{
 "cells": [
  {
   "cell_type": "markdown",
   "metadata": {},
   "source": [
    "# URBAN SPORT CLUB DATA ANALYSIS"
   ]
  },
  {
   "cell_type": "markdown",
   "metadata": {},
   "source": [
    "**Tasks for Practical Test:**\n",
    "What can you say about the data set?\n",
    "Analyze the data provided. Compile KPI reports such as Cohort Retention, Profit Contribution etc.\n",
    "Interpret your results and draw conclusions for the business.\n",
    "Which additional data points would like to look at for better analysis and conclusions? Prioritize them"
   ]
  },
  {
   "cell_type": "markdown",
   "metadata": {},
   "source": [
    "## Necessary Imports"
   ]
  },
  {
   "cell_type": "code",
   "execution_count": 1,
   "metadata": {
    "collapsed": true
   },
   "outputs": [],
   "source": [
    "import pandas as pd\n",
    "import numpy as np \n",
    "import seaborn as sns\n",
    "import matplotlib.pyplot as plt\n",
    "import warnings; warnings.simplefilter('ignore')\n",
    "%matplotlib inline "
   ]
  },
  {
   "cell_type": "markdown",
   "metadata": {},
   "source": [
    "## EDA"
   ]
  },
  {
   "cell_type": "markdown",
   "metadata": {},
   "source": [
    "**Import**"
   ]
  },
  {
   "cell_type": "code",
   "execution_count": 2,
   "metadata": {},
   "outputs": [
    {
     "data": {
      "text/html": [
       "<div>\n",
       "<style scoped>\n",
       "    .dataframe tbody tr th:only-of-type {\n",
       "        vertical-align: middle;\n",
       "    }\n",
       "\n",
       "    .dataframe tbody tr th {\n",
       "        vertical-align: top;\n",
       "    }\n",
       "\n",
       "    .dataframe thead th {\n",
       "        text-align: right;\n",
       "    }\n",
       "</style>\n",
       "<table border=\"1\" class=\"dataframe\">\n",
       "  <thead>\n",
       "    <tr style=\"text-align: right;\">\n",
       "      <th></th>\n",
       "      <th>Customer ID</th>\n",
       "      <th>country</th>\n",
       "      <th>Product type</th>\n",
       "      <th>full product price</th>\n",
       "      <th>Acquisition_date</th>\n",
       "      <th>Marketing Channel</th>\n",
       "      <th>Subscription Date</th>\n",
       "      <th>Revenue</th>\n",
       "      <th>Cost</th>\n",
       "    </tr>\n",
       "  </thead>\n",
       "  <tbody>\n",
       "    <tr>\n",
       "      <th>0</th>\n",
       "      <td>2.0</td>\n",
       "      <td>Country 1</td>\n",
       "      <td>product_4</td>\n",
       "      <td>39</td>\n",
       "      <td>2015-01-02</td>\n",
       "      <td>Channel 1</td>\n",
       "      <td>2015-01-02</td>\n",
       "      <td>34.3</td>\n",
       "      <td>37.86</td>\n",
       "    </tr>\n",
       "    <tr>\n",
       "      <th>1</th>\n",
       "      <td>3.0</td>\n",
       "      <td>Country 1</td>\n",
       "      <td>product_4</td>\n",
       "      <td>39</td>\n",
       "      <td>2015-01-13</td>\n",
       "      <td>Channel 1</td>\n",
       "      <td>2015-01-13</td>\n",
       "      <td>39.0</td>\n",
       "      <td>8.00</td>\n",
       "    </tr>\n",
       "    <tr>\n",
       "      <th>2</th>\n",
       "      <td>4.0</td>\n",
       "      <td>Country 1</td>\n",
       "      <td>product_4</td>\n",
       "      <td>39</td>\n",
       "      <td>2015-01-21</td>\n",
       "      <td>Channel 1</td>\n",
       "      <td>2015-01-21</td>\n",
       "      <td>31.2</td>\n",
       "      <td>7.50</td>\n",
       "    </tr>\n",
       "    <tr>\n",
       "      <th>3</th>\n",
       "      <td>5.0</td>\n",
       "      <td>Country 1</td>\n",
       "      <td>product_4</td>\n",
       "      <td>39</td>\n",
       "      <td>2015-01-21</td>\n",
       "      <td>Channel 1</td>\n",
       "      <td>2015-01-21</td>\n",
       "      <td>31.2</td>\n",
       "      <td>29.06</td>\n",
       "    </tr>\n",
       "    <tr>\n",
       "      <th>4</th>\n",
       "      <td>6.0</td>\n",
       "      <td>Country 1</td>\n",
       "      <td>product_4</td>\n",
       "      <td>39</td>\n",
       "      <td>2015-01-21</td>\n",
       "      <td>Channel 1</td>\n",
       "      <td>2015-01-21</td>\n",
       "      <td>31.2</td>\n",
       "      <td>15.00</td>\n",
       "    </tr>\n",
       "  </tbody>\n",
       "</table>\n",
       "</div>"
      ],
      "text/plain": [
       "   Customer ID    country Product type  full product price Acquisition_date  \\\n",
       "0          2.0  Country 1    product_4                  39       2015-01-02   \n",
       "1          3.0  Country 1    product_4                  39       2015-01-13   \n",
       "2          4.0  Country 1    product_4                  39       2015-01-21   \n",
       "3          5.0  Country 1    product_4                  39       2015-01-21   \n",
       "4          6.0  Country 1    product_4                  39       2015-01-21   \n",
       "\n",
       "  Marketing Channel Subscription Date  Revenue   Cost  \n",
       "0         Channel 1        2015-01-02     34.3  37.86  \n",
       "1         Channel 1        2015-01-13     39.0   8.00  \n",
       "2         Channel 1        2015-01-21     31.2   7.50  \n",
       "3         Channel 1        2015-01-21     31.2  29.06  \n",
       "4         Channel 1        2015-01-21     31.2  15.00  "
      ]
     },
     "execution_count": 2,
     "metadata": {},
     "output_type": "execute_result"
    }
   ],
   "source": [
    "df = pd.read_excel('BI manager test case.xlsx')\n",
    "df.head()"
   ]
  },
  {
   "cell_type": "markdown",
   "metadata": {},
   "source": [
    "**Standardize the variable names**"
   ]
  },
  {
   "cell_type": "code",
   "execution_count": 3,
   "metadata": {},
   "outputs": [
    {
     "data": {
      "text/plain": [
       "Index(['Customer ID', 'country', 'Product type', 'full product price',\n",
       "       'Acquisition_date', 'Marketing Channel', 'Subscription Date', 'Revenue',\n",
       "       'Cost'],\n",
       "      dtype='object')"
      ]
     },
     "execution_count": 3,
     "metadata": {},
     "output_type": "execute_result"
    }
   ],
   "source": [
    "df.columns"
   ]
  },
  {
   "cell_type": "code",
   "execution_count": 4,
   "metadata": {
    "collapsed": true
   },
   "outputs": [],
   "source": [
    "df.rename(index=str, columns={\n",
    "            \"Customer ID\":\"Customer_ID\",\n",
    "            \"country\": \"Country\",\n",
    "            \"Product type\":\"Product_Type\",\n",
    "            \"Acquisition_date\":\"Acquisition_Date\",\n",
    "            \"full product price\": \"Full_Product_Price\",\n",
    "            \"Marketing Channel\": \"Marketing_Channel\",\n",
    "            \"Subscription Date\": \"Subscription_Date\"\n",
    "            },inplace=True)"
   ]
  },
  {
   "cell_type": "markdown",
   "metadata": {},
   "source": [
    "**Remove duplicates**"
   ]
  },
  {
   "cell_type": "code",
   "execution_count": 5,
   "metadata": {},
   "outputs": [
    {
     "name": "stdout",
     "output_type": "stream",
     "text": [
      "<class 'pandas.core.frame.DataFrame'>\n",
      "Index: 29619 entries, 0 to 29618\n",
      "Data columns (total 9 columns):\n",
      "Customer_ID           29213 non-null float64\n",
      "Country               29619 non-null object\n",
      "Product_Type          29619 non-null object\n",
      "Full_Product_Price    29619 non-null int64\n",
      "Acquisition_Date      28191 non-null datetime64[ns]\n",
      "Marketing_Channel     29619 non-null object\n",
      "Subscription_Date     28191 non-null datetime64[ns]\n",
      "Revenue               29619 non-null float64\n",
      "Cost                  29619 non-null float64\n",
      "dtypes: datetime64[ns](2), float64(3), int64(1), object(3)\n",
      "memory usage: 2.3+ MB\n"
     ]
    }
   ],
   "source": [
    "df.info()"
   ]
  },
  {
   "cell_type": "code",
   "execution_count": 6,
   "metadata": {},
   "outputs": [
    {
     "name": "stdout",
     "output_type": "stream",
     "text": [
      "<class 'pandas.core.frame.DataFrame'>\n",
      "Index: 29614 entries, 0 to 29618\n",
      "Data columns (total 9 columns):\n",
      "Customer_ID           29208 non-null float64\n",
      "Country               29614 non-null object\n",
      "Product_Type          29614 non-null object\n",
      "Full_Product_Price    29614 non-null int64\n",
      "Acquisition_Date      28190 non-null datetime64[ns]\n",
      "Marketing_Channel     29614 non-null object\n",
      "Subscription_Date     28190 non-null datetime64[ns]\n",
      "Revenue               29614 non-null float64\n",
      "Cost                  29614 non-null float64\n",
      "dtypes: datetime64[ns](2), float64(3), int64(1), object(3)\n",
      "memory usage: 2.3+ MB\n"
     ]
    }
   ],
   "source": [
    "df.drop_duplicates().info()"
   ]
  },
  {
   "cell_type": "code",
   "execution_count": 7,
   "metadata": {
    "collapsed": true
   },
   "outputs": [],
   "source": [
    "df.drop_duplicates(inplace=True)"
   ]
  },
  {
   "cell_type": "markdown",
   "metadata": {},
   "source": [
    "**Null values**"
   ]
  },
  {
   "cell_type": "code",
   "execution_count": 8,
   "metadata": {},
   "outputs": [
    {
     "data": {
      "text/plain": [
       "Customer_ID            406\n",
       "Country                  0\n",
       "Product_Type             0\n",
       "Full_Product_Price       0\n",
       "Acquisition_Date      1424\n",
       "Marketing_Channel        0\n",
       "Subscription_Date     1424\n",
       "Revenue                  0\n",
       "Cost                     0\n",
       "dtype: int64"
      ]
     },
     "execution_count": 8,
     "metadata": {},
     "output_type": "execute_result"
    }
   ],
   "source": [
    "df.isnull().sum()"
   ]
  },
  {
   "cell_type": "markdown",
   "metadata": {},
   "source": [
    "**Can we save some rows?**"
   ]
  },
  {
   "cell_type": "code",
   "execution_count": 9,
   "metadata": {},
   "outputs": [
    {
     "data": {
      "text/html": [
       "<div>\n",
       "<style scoped>\n",
       "    .dataframe tbody tr th:only-of-type {\n",
       "        vertical-align: middle;\n",
       "    }\n",
       "\n",
       "    .dataframe tbody tr th {\n",
       "        vertical-align: top;\n",
       "    }\n",
       "\n",
       "    .dataframe thead th {\n",
       "        text-align: right;\n",
       "    }\n",
       "</style>\n",
       "<table border=\"1\" class=\"dataframe\">\n",
       "  <thead>\n",
       "    <tr style=\"text-align: right;\">\n",
       "      <th></th>\n",
       "      <th>Customer_ID</th>\n",
       "      <th>Country</th>\n",
       "      <th>Product_Type</th>\n",
       "      <th>Full_Product_Price</th>\n",
       "      <th>Acquisition_Date</th>\n",
       "      <th>Marketing_Channel</th>\n",
       "      <th>Subscription_Date</th>\n",
       "      <th>Revenue</th>\n",
       "      <th>Cost</th>\n",
       "    </tr>\n",
       "  </thead>\n",
       "  <tbody>\n",
       "    <tr>\n",
       "      <th>252</th>\n",
       "      <td>256.0</td>\n",
       "      <td>Country 1</td>\n",
       "      <td>product_1</td>\n",
       "      <td>89</td>\n",
       "      <td>2015-03-09</td>\n",
       "      <td>Channel 1</td>\n",
       "      <td>2015-03-09</td>\n",
       "      <td>55.20</td>\n",
       "      <td>36.50</td>\n",
       "    </tr>\n",
       "    <tr>\n",
       "      <th>9561</th>\n",
       "      <td>256.0</td>\n",
       "      <td>Country 1</td>\n",
       "      <td>product_1</td>\n",
       "      <td>89</td>\n",
       "      <td>2015-03-09</td>\n",
       "      <td>Channel 1</td>\n",
       "      <td>2015-04-09</td>\n",
       "      <td>55.20</td>\n",
       "      <td>37.50</td>\n",
       "    </tr>\n",
       "    <tr>\n",
       "      <th>9562</th>\n",
       "      <td>256.0</td>\n",
       "      <td>Country 1</td>\n",
       "      <td>product_1</td>\n",
       "      <td>89</td>\n",
       "      <td>2015-03-09</td>\n",
       "      <td>Channel 1</td>\n",
       "      <td>2015-05-09</td>\n",
       "      <td>55.20</td>\n",
       "      <td>30.00</td>\n",
       "    </tr>\n",
       "    <tr>\n",
       "      <th>9563</th>\n",
       "      <td>256.0</td>\n",
       "      <td>Country 1</td>\n",
       "      <td>product_1</td>\n",
       "      <td>89</td>\n",
       "      <td>2015-03-09</td>\n",
       "      <td>Channel 1</td>\n",
       "      <td>2015-06-09</td>\n",
       "      <td>69.00</td>\n",
       "      <td>52.50</td>\n",
       "    </tr>\n",
       "    <tr>\n",
       "      <th>9564</th>\n",
       "      <td>256.0</td>\n",
       "      <td>Country 1</td>\n",
       "      <td>product_1</td>\n",
       "      <td>89</td>\n",
       "      <td>2015-03-09</td>\n",
       "      <td>Channel 1</td>\n",
       "      <td>2015-07-09</td>\n",
       "      <td>69.00</td>\n",
       "      <td>10.00</td>\n",
       "    </tr>\n",
       "    <tr>\n",
       "      <th>9565</th>\n",
       "      <td>256.0</td>\n",
       "      <td>Country 1</td>\n",
       "      <td>product_1</td>\n",
       "      <td>89</td>\n",
       "      <td>2015-03-09</td>\n",
       "      <td>Channel 1</td>\n",
       "      <td>2015-08-09</td>\n",
       "      <td>69.00</td>\n",
       "      <td>27.00</td>\n",
       "    </tr>\n",
       "    <tr>\n",
       "      <th>9566</th>\n",
       "      <td>256.0</td>\n",
       "      <td>Country 1</td>\n",
       "      <td>product_1</td>\n",
       "      <td>89</td>\n",
       "      <td>2015-03-09</td>\n",
       "      <td>Channel 1</td>\n",
       "      <td>2015-09-09</td>\n",
       "      <td>69.00</td>\n",
       "      <td>38.00</td>\n",
       "    </tr>\n",
       "    <tr>\n",
       "      <th>9567</th>\n",
       "      <td>256.0</td>\n",
       "      <td>Country 1</td>\n",
       "      <td>product_1</td>\n",
       "      <td>89</td>\n",
       "      <td>2015-03-09</td>\n",
       "      <td>Channel 1</td>\n",
       "      <td>2015-10-09</td>\n",
       "      <td>26.07</td>\n",
       "      <td>25.22</td>\n",
       "    </tr>\n",
       "    <tr>\n",
       "      <th>9568</th>\n",
       "      <td>256.0</td>\n",
       "      <td>Country 1</td>\n",
       "      <td>product_1</td>\n",
       "      <td>89</td>\n",
       "      <td>2015-03-09</td>\n",
       "      <td>Channel 1</td>\n",
       "      <td>2015-11-09</td>\n",
       "      <td>41.21</td>\n",
       "      <td>40.51</td>\n",
       "    </tr>\n",
       "    <tr>\n",
       "      <th>9569</th>\n",
       "      <td>256.0</td>\n",
       "      <td>Country 1</td>\n",
       "      <td>product_1</td>\n",
       "      <td>89</td>\n",
       "      <td>2015-03-09</td>\n",
       "      <td>Channel 1</td>\n",
       "      <td>2015-12-09</td>\n",
       "      <td>70.51</td>\n",
       "      <td>61.12</td>\n",
       "    </tr>\n",
       "    <tr>\n",
       "      <th>28219</th>\n",
       "      <td>256.0</td>\n",
       "      <td>Country 1</td>\n",
       "      <td>product_1</td>\n",
       "      <td>89</td>\n",
       "      <td>NaT</td>\n",
       "      <td>Channel 5</td>\n",
       "      <td>NaT</td>\n",
       "      <td>6.32</td>\n",
       "      <td>4.82</td>\n",
       "    </tr>\n",
       "    <tr>\n",
       "      <th>28220</th>\n",
       "      <td>256.0</td>\n",
       "      <td>Country 1</td>\n",
       "      <td>product_1</td>\n",
       "      <td>89</td>\n",
       "      <td>NaT</td>\n",
       "      <td>Channel 5</td>\n",
       "      <td>NaT</td>\n",
       "      <td>66.15</td>\n",
       "      <td>69.51</td>\n",
       "    </tr>\n",
       "    <tr>\n",
       "      <th>28221</th>\n",
       "      <td>256.0</td>\n",
       "      <td>Country 1</td>\n",
       "      <td>product_1</td>\n",
       "      <td>89</td>\n",
       "      <td>NaT</td>\n",
       "      <td>Channel 5</td>\n",
       "      <td>NaT</td>\n",
       "      <td>17.21</td>\n",
       "      <td>16.70</td>\n",
       "    </tr>\n",
       "    <tr>\n",
       "      <th>28222</th>\n",
       "      <td>256.0</td>\n",
       "      <td>Country 1</td>\n",
       "      <td>product_1</td>\n",
       "      <td>89</td>\n",
       "      <td>NaT</td>\n",
       "      <td>Channel 5</td>\n",
       "      <td>NaT</td>\n",
       "      <td>66.60</td>\n",
       "      <td>38.13</td>\n",
       "    </tr>\n",
       "    <tr>\n",
       "      <th>28223</th>\n",
       "      <td>256.0</td>\n",
       "      <td>Country 1</td>\n",
       "      <td>product_1</td>\n",
       "      <td>89</td>\n",
       "      <td>NaT</td>\n",
       "      <td>Channel 5</td>\n",
       "      <td>NaT</td>\n",
       "      <td>75.97</td>\n",
       "      <td>73.19</td>\n",
       "    </tr>\n",
       "    <tr>\n",
       "      <th>28224</th>\n",
       "      <td>256.0</td>\n",
       "      <td>Country 1</td>\n",
       "      <td>product_1</td>\n",
       "      <td>89</td>\n",
       "      <td>NaT</td>\n",
       "      <td>Channel 5</td>\n",
       "      <td>NaT</td>\n",
       "      <td>66.92</td>\n",
       "      <td>45.74</td>\n",
       "    </tr>\n",
       "    <tr>\n",
       "      <th>28225</th>\n",
       "      <td>256.0</td>\n",
       "      <td>Country 1</td>\n",
       "      <td>product_1</td>\n",
       "      <td>89</td>\n",
       "      <td>NaT</td>\n",
       "      <td>Channel 5</td>\n",
       "      <td>NaT</td>\n",
       "      <td>38.48</td>\n",
       "      <td>48.75</td>\n",
       "    </tr>\n",
       "    <tr>\n",
       "      <th>28226</th>\n",
       "      <td>256.0</td>\n",
       "      <td>Country 1</td>\n",
       "      <td>product_1</td>\n",
       "      <td>89</td>\n",
       "      <td>NaT</td>\n",
       "      <td>Channel 5</td>\n",
       "      <td>NaT</td>\n",
       "      <td>26.82</td>\n",
       "      <td>32.22</td>\n",
       "    </tr>\n",
       "    <tr>\n",
       "      <th>28227</th>\n",
       "      <td>256.0</td>\n",
       "      <td>Country 1</td>\n",
       "      <td>product_1</td>\n",
       "      <td>89</td>\n",
       "      <td>NaT</td>\n",
       "      <td>Channel 5</td>\n",
       "      <td>NaT</td>\n",
       "      <td>84.25</td>\n",
       "      <td>60.66</td>\n",
       "    </tr>\n",
       "    <tr>\n",
       "      <th>28228</th>\n",
       "      <td>256.0</td>\n",
       "      <td>Country 1</td>\n",
       "      <td>product_1</td>\n",
       "      <td>89</td>\n",
       "      <td>NaT</td>\n",
       "      <td>Channel 5</td>\n",
       "      <td>NaT</td>\n",
       "      <td>74.61</td>\n",
       "      <td>72.44</td>\n",
       "    </tr>\n",
       "    <tr>\n",
       "      <th>28229</th>\n",
       "      <td>256.0</td>\n",
       "      <td>Country 1</td>\n",
       "      <td>product_1</td>\n",
       "      <td>89</td>\n",
       "      <td>NaT</td>\n",
       "      <td>Channel 5</td>\n",
       "      <td>NaT</td>\n",
       "      <td>84.02</td>\n",
       "      <td>56.89</td>\n",
       "    </tr>\n",
       "    <tr>\n",
       "      <th>28230</th>\n",
       "      <td>256.0</td>\n",
       "      <td>Country 1</td>\n",
       "      <td>product_1</td>\n",
       "      <td>89</td>\n",
       "      <td>NaT</td>\n",
       "      <td>Channel 5</td>\n",
       "      <td>NaT</td>\n",
       "      <td>50.95</td>\n",
       "      <td>45.12</td>\n",
       "    </tr>\n",
       "    <tr>\n",
       "      <th>28231</th>\n",
       "      <td>256.0</td>\n",
       "      <td>Country 1</td>\n",
       "      <td>product_1</td>\n",
       "      <td>89</td>\n",
       "      <td>NaT</td>\n",
       "      <td>Channel 5</td>\n",
       "      <td>NaT</td>\n",
       "      <td>69.34</td>\n",
       "      <td>77.75</td>\n",
       "    </tr>\n",
       "    <tr>\n",
       "      <th>28232</th>\n",
       "      <td>256.0</td>\n",
       "      <td>Country 1</td>\n",
       "      <td>product_1</td>\n",
       "      <td>89</td>\n",
       "      <td>NaT</td>\n",
       "      <td>Channel 5</td>\n",
       "      <td>NaT</td>\n",
       "      <td>36.57</td>\n",
       "      <td>29.96</td>\n",
       "    </tr>\n",
       "  </tbody>\n",
       "</table>\n",
       "</div>"
      ],
      "text/plain": [
       "       Customer_ID    Country Product_Type  Full_Product_Price  \\\n",
       "252          256.0  Country 1    product_1                  89   \n",
       "9561         256.0  Country 1    product_1                  89   \n",
       "9562         256.0  Country 1    product_1                  89   \n",
       "9563         256.0  Country 1    product_1                  89   \n",
       "9564         256.0  Country 1    product_1                  89   \n",
       "9565         256.0  Country 1    product_1                  89   \n",
       "9566         256.0  Country 1    product_1                  89   \n",
       "9567         256.0  Country 1    product_1                  89   \n",
       "9568         256.0  Country 1    product_1                  89   \n",
       "9569         256.0  Country 1    product_1                  89   \n",
       "28219        256.0  Country 1    product_1                  89   \n",
       "28220        256.0  Country 1    product_1                  89   \n",
       "28221        256.0  Country 1    product_1                  89   \n",
       "28222        256.0  Country 1    product_1                  89   \n",
       "28223        256.0  Country 1    product_1                  89   \n",
       "28224        256.0  Country 1    product_1                  89   \n",
       "28225        256.0  Country 1    product_1                  89   \n",
       "28226        256.0  Country 1    product_1                  89   \n",
       "28227        256.0  Country 1    product_1                  89   \n",
       "28228        256.0  Country 1    product_1                  89   \n",
       "28229        256.0  Country 1    product_1                  89   \n",
       "28230        256.0  Country 1    product_1                  89   \n",
       "28231        256.0  Country 1    product_1                  89   \n",
       "28232        256.0  Country 1    product_1                  89   \n",
       "\n",
       "      Acquisition_Date Marketing_Channel Subscription_Date  Revenue   Cost  \n",
       "252         2015-03-09         Channel 1        2015-03-09    55.20  36.50  \n",
       "9561        2015-03-09         Channel 1        2015-04-09    55.20  37.50  \n",
       "9562        2015-03-09         Channel 1        2015-05-09    55.20  30.00  \n",
       "9563        2015-03-09         Channel 1        2015-06-09    69.00  52.50  \n",
       "9564        2015-03-09         Channel 1        2015-07-09    69.00  10.00  \n",
       "9565        2015-03-09         Channel 1        2015-08-09    69.00  27.00  \n",
       "9566        2015-03-09         Channel 1        2015-09-09    69.00  38.00  \n",
       "9567        2015-03-09         Channel 1        2015-10-09    26.07  25.22  \n",
       "9568        2015-03-09         Channel 1        2015-11-09    41.21  40.51  \n",
       "9569        2015-03-09         Channel 1        2015-12-09    70.51  61.12  \n",
       "28219              NaT         Channel 5               NaT     6.32   4.82  \n",
       "28220              NaT         Channel 5               NaT    66.15  69.51  \n",
       "28221              NaT         Channel 5               NaT    17.21  16.70  \n",
       "28222              NaT         Channel 5               NaT    66.60  38.13  \n",
       "28223              NaT         Channel 5               NaT    75.97  73.19  \n",
       "28224              NaT         Channel 5               NaT    66.92  45.74  \n",
       "28225              NaT         Channel 5               NaT    38.48  48.75  \n",
       "28226              NaT         Channel 5               NaT    26.82  32.22  \n",
       "28227              NaT         Channel 5               NaT    84.25  60.66  \n",
       "28228              NaT         Channel 5               NaT    74.61  72.44  \n",
       "28229              NaT         Channel 5               NaT    84.02  56.89  \n",
       "28230              NaT         Channel 5               NaT    50.95  45.12  \n",
       "28231              NaT         Channel 5               NaT    69.34  77.75  \n",
       "28232              NaT         Channel 5               NaT    36.57  29.96  "
      ]
     },
     "execution_count": 9,
     "metadata": {},
     "output_type": "execute_result"
    }
   ],
   "source": [
    "df[df['Customer_ID']==256]"
   ]
  },
  {
   "cell_type": "markdown",
   "metadata": {},
   "source": [
    "**Drop rows with missing values**"
   ]
  },
  {
   "cell_type": "code",
   "execution_count": 10,
   "metadata": {},
   "outputs": [
    {
     "name": "stdout",
     "output_type": "stream",
     "text": [
      "<class 'pandas.core.frame.DataFrame'>\n",
      "Index: 28190 entries, 0 to 28190\n",
      "Data columns (total 9 columns):\n",
      "Customer_ID           28190 non-null float64\n",
      "Country               28190 non-null object\n",
      "Product_Type          28190 non-null object\n",
      "Full_Product_Price    28190 non-null int64\n",
      "Acquisition_Date      28190 non-null datetime64[ns]\n",
      "Marketing_Channel     28190 non-null object\n",
      "Subscription_Date     28190 non-null datetime64[ns]\n",
      "Revenue               28190 non-null float64\n",
      "Cost                  28190 non-null float64\n",
      "dtypes: datetime64[ns](2), float64(3), int64(1), object(3)\n",
      "memory usage: 2.2+ MB\n"
     ]
    }
   ],
   "source": [
    "df.dropna().info()"
   ]
  },
  {
   "cell_type": "code",
   "execution_count": 11,
   "metadata": {
    "collapsed": true
   },
   "outputs": [],
   "source": [
    "df.dropna(inplace=True)"
   ]
  },
  {
   "cell_type": "code",
   "execution_count": 12,
   "metadata": {
    "collapsed": true
   },
   "outputs": [],
   "source": [
    "df['Acquisition_Date'] = pd.to_datetime(df['Acquisition_Date'])\n",
    "df['Subscription_Date'] = pd.to_datetime(df['Subscription_Date'])"
   ]
  },
  {
   "cell_type": "markdown",
   "metadata": {},
   "source": [
    "**Create a new variable - Profit**"
   ]
  },
  {
   "cell_type": "code",
   "execution_count": 13,
   "metadata": {
    "collapsed": true
   },
   "outputs": [],
   "source": [
    "df['Profit'] = df['Revenue'] - df['Cost'] \n",
    "df['Year'] = df['Subscription_Date'].dt.year\n",
    "df['Month'] = df['Subscription_Date'].dt.month"
   ]
  },
  {
   "cell_type": "markdown",
   "metadata": {},
   "source": [
    "**Print Final Data frame**"
   ]
  },
  {
   "cell_type": "code",
   "execution_count": 14,
   "metadata": {},
   "outputs": [
    {
     "data": {
      "text/html": [
       "<div>\n",
       "<style scoped>\n",
       "    .dataframe tbody tr th:only-of-type {\n",
       "        vertical-align: middle;\n",
       "    }\n",
       "\n",
       "    .dataframe tbody tr th {\n",
       "        vertical-align: top;\n",
       "    }\n",
       "\n",
       "    .dataframe thead th {\n",
       "        text-align: right;\n",
       "    }\n",
       "</style>\n",
       "<table border=\"1\" class=\"dataframe\">\n",
       "  <thead>\n",
       "    <tr style=\"text-align: right;\">\n",
       "      <th></th>\n",
       "      <th>Customer_ID</th>\n",
       "      <th>Country</th>\n",
       "      <th>Product_Type</th>\n",
       "      <th>Full_Product_Price</th>\n",
       "      <th>Acquisition_Date</th>\n",
       "      <th>Marketing_Channel</th>\n",
       "      <th>Subscription_Date</th>\n",
       "      <th>Revenue</th>\n",
       "      <th>Cost</th>\n",
       "      <th>Profit</th>\n",
       "      <th>Year</th>\n",
       "      <th>Month</th>\n",
       "    </tr>\n",
       "  </thead>\n",
       "  <tbody>\n",
       "    <tr>\n",
       "      <th>0</th>\n",
       "      <td>2.0</td>\n",
       "      <td>Country 1</td>\n",
       "      <td>product_4</td>\n",
       "      <td>39</td>\n",
       "      <td>2015-01-02</td>\n",
       "      <td>Channel 1</td>\n",
       "      <td>2015-01-02</td>\n",
       "      <td>34.3</td>\n",
       "      <td>37.86</td>\n",
       "      <td>-3.56</td>\n",
       "      <td>2015</td>\n",
       "      <td>1</td>\n",
       "    </tr>\n",
       "    <tr>\n",
       "      <th>1</th>\n",
       "      <td>3.0</td>\n",
       "      <td>Country 1</td>\n",
       "      <td>product_4</td>\n",
       "      <td>39</td>\n",
       "      <td>2015-01-13</td>\n",
       "      <td>Channel 1</td>\n",
       "      <td>2015-01-13</td>\n",
       "      <td>39.0</td>\n",
       "      <td>8.00</td>\n",
       "      <td>31.00</td>\n",
       "      <td>2015</td>\n",
       "      <td>1</td>\n",
       "    </tr>\n",
       "    <tr>\n",
       "      <th>2</th>\n",
       "      <td>4.0</td>\n",
       "      <td>Country 1</td>\n",
       "      <td>product_4</td>\n",
       "      <td>39</td>\n",
       "      <td>2015-01-21</td>\n",
       "      <td>Channel 1</td>\n",
       "      <td>2015-01-21</td>\n",
       "      <td>31.2</td>\n",
       "      <td>7.50</td>\n",
       "      <td>23.70</td>\n",
       "      <td>2015</td>\n",
       "      <td>1</td>\n",
       "    </tr>\n",
       "    <tr>\n",
       "      <th>3</th>\n",
       "      <td>5.0</td>\n",
       "      <td>Country 1</td>\n",
       "      <td>product_4</td>\n",
       "      <td>39</td>\n",
       "      <td>2015-01-21</td>\n",
       "      <td>Channel 1</td>\n",
       "      <td>2015-01-21</td>\n",
       "      <td>31.2</td>\n",
       "      <td>29.06</td>\n",
       "      <td>2.14</td>\n",
       "      <td>2015</td>\n",
       "      <td>1</td>\n",
       "    </tr>\n",
       "    <tr>\n",
       "      <th>4</th>\n",
       "      <td>6.0</td>\n",
       "      <td>Country 1</td>\n",
       "      <td>product_4</td>\n",
       "      <td>39</td>\n",
       "      <td>2015-01-21</td>\n",
       "      <td>Channel 1</td>\n",
       "      <td>2015-01-21</td>\n",
       "      <td>31.2</td>\n",
       "      <td>15.00</td>\n",
       "      <td>16.20</td>\n",
       "      <td>2015</td>\n",
       "      <td>1</td>\n",
       "    </tr>\n",
       "  </tbody>\n",
       "</table>\n",
       "</div>"
      ],
      "text/plain": [
       "   Customer_ID    Country Product_Type  Full_Product_Price Acquisition_Date  \\\n",
       "0          2.0  Country 1    product_4                  39       2015-01-02   \n",
       "1          3.0  Country 1    product_4                  39       2015-01-13   \n",
       "2          4.0  Country 1    product_4                  39       2015-01-21   \n",
       "3          5.0  Country 1    product_4                  39       2015-01-21   \n",
       "4          6.0  Country 1    product_4                  39       2015-01-21   \n",
       "\n",
       "  Marketing_Channel Subscription_Date  Revenue   Cost  Profit  Year  Month  \n",
       "0         Channel 1        2015-01-02     34.3  37.86   -3.56  2015      1  \n",
       "1         Channel 1        2015-01-13     39.0   8.00   31.00  2015      1  \n",
       "2         Channel 1        2015-01-21     31.2   7.50   23.70  2015      1  \n",
       "3         Channel 1        2015-01-21     31.2  29.06    2.14  2015      1  \n",
       "4         Channel 1        2015-01-21     31.2  15.00   16.20  2015      1  "
      ]
     },
     "execution_count": 14,
     "metadata": {},
     "output_type": "execute_result"
    }
   ],
   "source": [
    "df.head()"
   ]
  },
  {
   "cell_type": "markdown",
   "metadata": {},
   "source": [
    "**Exploration**"
   ]
  },
  {
   "cell_type": "code",
   "execution_count": 15,
   "metadata": {},
   "outputs": [
    {
     "data": {
      "image/png": "[encoded data removed]",
      "text/plain": [
       "<matplotlib.figure.Figure at 0x10e25c860>"
      ]
     },
     "metadata": {},
     "output_type": "display_data"
    }
   ],
   "source": [
    "fig, (ax1, ax2,ax3) = plt.subplots(ncols=3, sharey=True, figsize= (10,3))\n",
    "sns.barplot(x='Country', y='Revenue', data=df, hue='Product_Type', ax= ax1)\n",
    "sns.barplot(x='Country', y='Cost', data=df, hue='Product_Type', ax= ax2)\n",
    "sns.barplot(x='Country', y='Profit', data=df, hue='Product_Type', ax= ax3)\n",
    "ax1.legend_.remove()\n",
    "ax2.legend_.remove()"
   ]
  },
  {
   "cell_type": "code",
   "execution_count": 16,
   "metadata": {},
   "outputs": [
    {
     "data": {
      "text/plain": [
       "<matplotlib.axes._subplots.AxesSubplot at 0x10e25fba8>"
      ]
     },
     "execution_count": 16,
     "metadata": {},
     "output_type": "execute_result"
    },
    {
     "data": {
      "image/png": "[encoded data removed]",
      "text/plain": [
       "<matplotlib.figure.Figure at 0x10798c438>"
      ]
     },
     "metadata": {},
     "output_type": "display_data"
    }
   ],
   "source": [
    "sns.distplot(df['Profit'])"
   ]
  },
  {
   "cell_type": "markdown",
   "metadata": {},
   "source": [
    "There is no big difference between the revenue variable and the cost. \n",
    "The 3rd plot and distribution plot confirm it to us showing many negative average profit values. \n",
    "The 3rd product is not sold in Country 2 and only the product 1 is generating some profit. \n",
    "\n",
    "Let's now dig a bit more! "
   ]
  },
  {
   "cell_type": "code",
   "execution_count": 17,
   "metadata": {
    "scrolled": false
   },
   "outputs": [
    {
     "data": {
      "text/plain": [
       "<seaborn.axisgrid.FacetGrid at 0x105e30f60>"
      ]
     },
     "execution_count": 17,
     "metadata": {},
     "output_type": "execute_result"
    },
    {
     "data": {
      "image/png": "[encoded data removed]",
      "text/plain": [
       "<matplotlib.figure.Figure at 0x10db25f28>"
      ]
     },
     "metadata": {},
     "output_type": "display_data"
    }
   ],
   "source": [
    "sns.factorplot(data = df, x = 'Month', y = \"Profit\", \n",
    "               col = 'Marketing_Channel',               \n",
    "               hue = 'Product_Type',\n",
    "               row = 'Country')"
   ]
  },
  {
   "cell_type": "code",
   "execution_count": 18,
   "metadata": {},
   "outputs": [
    {
     "data": {
      "text/html": [
       "<div>\n",
       "<style scoped>\n",
       "    .dataframe tbody tr th:only-of-type {\n",
       "        vertical-align: middle;\n",
       "    }\n",
       "\n",
       "    .dataframe tbody tr th {\n",
       "        vertical-align: top;\n",
       "    }\n",
       "\n",
       "    .dataframe thead th {\n",
       "        text-align: right;\n",
       "    }\n",
       "</style>\n",
       "<table border=\"1\" class=\"dataframe\">\n",
       "  <thead>\n",
       "    <tr style=\"text-align: right;\">\n",
       "      <th></th>\n",
       "      <th></th>\n",
       "      <th></th>\n",
       "      <th>Profit</th>\n",
       "    </tr>\n",
       "    <tr>\n",
       "      <th>Country</th>\n",
       "      <th>Product_Type</th>\n",
       "      <th>Marketing_Channel</th>\n",
       "      <th></th>\n",
       "    </tr>\n",
       "  </thead>\n",
       "  <tbody>\n",
       "    <tr>\n",
       "      <th rowspan=\"5\" valign=\"top\">Country 1</th>\n",
       "      <th rowspan=\"5\" valign=\"top\">product_1</th>\n",
       "      <th>Channel 1</th>\n",
       "      <td>6.910475</td>\n",
       "    </tr>\n",
       "    <tr>\n",
       "      <th>Channel 2</th>\n",
       "      <td>3.991284</td>\n",
       "    </tr>\n",
       "    <tr>\n",
       "      <th>Channel 3</th>\n",
       "      <td>5.881584</td>\n",
       "    </tr>\n",
       "    <tr>\n",
       "      <th>Channel 4</th>\n",
       "      <td>6.927568</td>\n",
       "    </tr>\n",
       "    <tr>\n",
       "      <th>Channel 5</th>\n",
       "      <td>1.358240</td>\n",
       "    </tr>\n",
       "  </tbody>\n",
       "</table>\n",
       "</div>"
      ],
      "text/plain": [
       "                                            Profit\n",
       "Country   Product_Type Marketing_Channel          \n",
       "Country 1 product_1    Channel 1          6.910475\n",
       "                       Channel 2          3.991284\n",
       "                       Channel 3          5.881584\n",
       "                       Channel 4          6.927568\n",
       "                       Channel 5          1.358240"
      ]
     },
     "execution_count": 18,
     "metadata": {},
     "output_type": "execute_result"
    }
   ],
   "source": [
    "pd.DataFrame(df.groupby(['Country','Product_Type','Marketing_Channel'])['Profit'].mean()).head()"
   ]
  },
  {
   "cell_type": "markdown",
   "metadata": {},
   "source": [
    "As said most of the profit in the country 1 is generated by the product 1, however some marketing channels are performing better than other. In my selection I have the channels 1,3 and 4.\n",
    "\n",
    "CPS(Cost per Subscription)//\n",
    "Channel 1:44 euros,\n",
    "Channel 3:27 euros,\n",
    "Channel 4:45 euros,"
   ]
  },
  {
   "cell_type": "markdown",
   "metadata": {},
   "source": [
    "This below plot is filtering the main data frame by selecting the year 2016. By visualizing the data with the dashboard I realized a continuous profit level in feburary. What's the reason?"
   ]
  },
  {
   "cell_type": "code",
   "execution_count": 19,
   "metadata": {},
   "outputs": [
    {
     "data": {
      "text/plain": [
       "<matplotlib.axes._subplots.AxesSubplot at 0x10e0b5b38>"
      ]
     },
     "execution_count": 19,
     "metadata": {},
     "output_type": "execute_result"
    },
    {
     "data": {
      "image/png": "[encoded data removed]",
      "text/plain": [
       "<matplotlib.figure.Figure at 0x10c766ba8>"
      ]
     },
     "metadata": {},
     "output_type": "display_data"
    }
   ],
   "source": [
    "df2016 = df[df['Year']==2016]\n",
    "sns.barplot(x='Month', y='Profit', data= df2016)"
   ]
  },
  {
   "cell_type": "code",
   "execution_count": 20,
   "metadata": {},
   "outputs": [
    {
     "data": {
      "text/plain": [
       "<seaborn.axisgrid.FacetGrid at 0x10e5b1d30>"
      ]
     },
     "execution_count": 20,
     "metadata": {},
     "output_type": "execute_result"
    },
    {
     "data": {
      "image/png": "[encoded data removed]",
      "text/plain": [
       "<matplotlib.figure.Figure at 0x10e5b1710>"
      ]
     },
     "metadata": {},
     "output_type": "display_data"
    }
   ],
   "source": [
    "sns.factorplot(data = df, x = 'Month', y = \"Profit\", \n",
    "               col = 'Marketing_Channel',               \n",
    "               hue = 'Year',\n",
    "               row = 'Country')"
   ]
  },
  {
   "cell_type": "code",
   "execution_count": 21,
   "metadata": {},
   "outputs": [
    {
     "data": {
      "text/html": [
       "<div>\n",
       "<style scoped>\n",
       "    .dataframe tbody tr th:only-of-type {\n",
       "        vertical-align: middle;\n",
       "    }\n",
       "\n",
       "    .dataframe tbody tr th {\n",
       "        vertical-align: top;\n",
       "    }\n",
       "\n",
       "    .dataframe thead th {\n",
       "        text-align: right;\n",
       "    }\n",
       "</style>\n",
       "<table border=\"1\" class=\"dataframe\">\n",
       "  <thead>\n",
       "    <tr style=\"text-align: right;\">\n",
       "      <th></th>\n",
       "      <th></th>\n",
       "      <th></th>\n",
       "      <th></th>\n",
       "      <th>Profit</th>\n",
       "    </tr>\n",
       "    <tr>\n",
       "      <th>Country</th>\n",
       "      <th>Year</th>\n",
       "      <th>Month</th>\n",
       "      <th>Marketing_Channel</th>\n",
       "      <th></th>\n",
       "    </tr>\n",
       "  </thead>\n",
       "  <tbody>\n",
       "    <tr>\n",
       "      <th rowspan=\"5\" valign=\"top\">Country 1</th>\n",
       "      <th rowspan=\"5\" valign=\"top\">2015</th>\n",
       "      <th rowspan=\"3\" valign=\"top\">1</th>\n",
       "      <th>Channel 1</th>\n",
       "      <td>8.978345</td>\n",
       "    </tr>\n",
       "    <tr>\n",
       "      <th>Channel 3</th>\n",
       "      <td>21.820000</td>\n",
       "    </tr>\n",
       "    <tr>\n",
       "      <th>Channel 5</th>\n",
       "      <td>-7.200000</td>\n",
       "    </tr>\n",
       "    <tr>\n",
       "      <th rowspan=\"2\" valign=\"top\">2</th>\n",
       "      <th>Channel 1</th>\n",
       "      <td>10.305319</td>\n",
       "    </tr>\n",
       "    <tr>\n",
       "      <th>Channel 3</th>\n",
       "      <td>-20.810000</td>\n",
       "    </tr>\n",
       "  </tbody>\n",
       "</table>\n",
       "</div>"
      ],
      "text/plain": [
       "                                           Profit\n",
       "Country   Year Month Marketing_Channel           \n",
       "Country 1 2015 1     Channel 1           8.978345\n",
       "                     Channel 3          21.820000\n",
       "                     Channel 5          -7.200000\n",
       "               2     Channel 1          10.305319\n",
       "                     Channel 3         -20.810000"
      ]
     },
     "execution_count": 21,
     "metadata": {},
     "output_type": "execute_result"
    }
   ],
   "source": [
    "pd.DataFrame(df.groupby(['Country','Year','Month','Marketing_Channel'])['Profit'].mean()).head()"
   ]
  },
  {
   "cell_type": "markdown",
   "metadata": {},
   "source": [
    "February was exceptionally good thanks to Country 2 having a profit 6 to 8 times higher than Country 1. \n",
    "Ex: in February 2016, Country 2  with the channel 1 had an average profit of 62 euros per subscription against 10 euros for country1."
   ]
  },
  {
   "cell_type": "code",
   "execution_count": 22,
   "metadata": {
    "scrolled": true
   },
   "outputs": [
    {
     "data": {
      "image/png": "[encoded data removed]",
      "text/plain": [
       "<matplotlib.figure.Figure at 0x11007a5c0>"
      ]
     },
     "metadata": {},
     "output_type": "display_data"
    },
    {
     "data": {
      "text/plain": [
       "<matplotlib.figure.Figure at 0x1100ddd30>"
      ]
     },
     "metadata": {},
     "output_type": "display_data"
    }
   ],
   "source": [
    "fig = plt.figure()\n",
    "ax1 = fig.add_subplot(211)\n",
    "ax2 = fig.add_subplot(212)\n",
    "plt.figure(figsize = (16,8))\n",
    "sns.countplot(x='Marketing_Channel',data=df, hue='Product_Type',ax=ax1).set_title('Revenue by Store Type and Assortment')\n",
    "sns.barplot(x='Marketing_Channel', y='Profit', data=df, hue='Product_Type',ax=ax2)\n",
    "ax2.legend_.remove()"
   ]
  },
  {
   "cell_type": "markdown",
   "metadata": {},
   "source": [
    "In a global level, the channel 1 as a better profit/unit sold ratio!\n",
    "Channel number 3 is not bad in terms of subscription count but the profit generated by the product 3 is the lowest one.\n",
    "Channels such as 4 and 2 are more adapted to sell product 3."
   ]
  },
  {
   "cell_type": "markdown",
   "metadata": {},
   "source": [
    "## ANALYSIS"
   ]
  },
  {
   "cell_type": "markdown",
   "metadata": {},
   "source": [
    "**Retention Rate/ Cohort Analysis**"
   ]
  },
  {
   "cell_type": "code",
   "execution_count": 23,
   "metadata": {},
   "outputs": [],
   "source": [
    "dff = pd.read_csv('df_main.csv')"
   ]
  },
  {
   "cell_type": "code",
   "execution_count": 24,
   "metadata": {},
   "outputs": [
    {
     "ename": "NameError",
     "evalue": "name 'cohort_period' is not defined",
     "output_type": "error",
     "traceback": [
      "\u001b[0;31m---------------------------------------------------------------------------\u001b[0m",
      "\u001b[0;31mNameError\u001b[0m                                 Traceback (most recent call last)",
      "\u001b[0;32m<ipython-input-24-e94c7edcf6fd>\u001b[0m in \u001b[0;36m<module>\u001b[0;34m()\u001b[0m\n\u001b[1;32m     10\u001b[0m \u001b[0;31m# make the column names more meaningful\u001b[0m\u001b[0;34m\u001b[0m\u001b[0;34m\u001b[0m\u001b[0m\n\u001b[1;32m     11\u001b[0m \u001b[0mcohorts\u001b[0m\u001b[0;34m.\u001b[0m\u001b[0mrename\u001b[0m\u001b[0;34m(\u001b[0m\u001b[0mcolumns\u001b[0m\u001b[0;34m=\u001b[0m\u001b[0;34m{\u001b[0m\u001b[0;34m'Customer_ID'\u001b[0m\u001b[0;34m:\u001b[0m \u001b[0;34m'TotalUsers'\u001b[0m\u001b[0;34m}\u001b[0m\u001b[0;34m,\u001b[0m \u001b[0minplace\u001b[0m\u001b[0;34m=\u001b[0m\u001b[0;32mTrue\u001b[0m\u001b[0;34m)\u001b[0m\u001b[0;34m\u001b[0m\u001b[0m\n\u001b[0;32m---> 12\u001b[0;31m \u001b[0mcohorts\u001b[0m \u001b[0;34m=\u001b[0m \u001b[0mcohorts\u001b[0m\u001b[0;34m.\u001b[0m\u001b[0mgroupby\u001b[0m\u001b[0;34m(\u001b[0m\u001b[0;34m[\u001b[0m\u001b[0;34m'Acquisition_Date_2'\u001b[0m\u001b[0;34m,\u001b[0m\u001b[0;34m'Country'\u001b[0m\u001b[0;34m]\u001b[0m\u001b[0;34m)\u001b[0m\u001b[0;34m.\u001b[0m\u001b[0mapply\u001b[0m\u001b[0;34m(\u001b[0m\u001b[0mcohort_period\u001b[0m\u001b[0;34m)\u001b[0m\u001b[0;34m\u001b[0m\u001b[0m\n\u001b[0m\u001b[1;32m     13\u001b[0m \u001b[0mcohorts\u001b[0m\u001b[0;34m.\u001b[0m\u001b[0mhead\u001b[0m\u001b[0;34m(\u001b[0m\u001b[0;34m)\u001b[0m\u001b[0;34m\u001b[0m\u001b[0m\n",
      "\u001b[0;31mNameError\u001b[0m: name 'cohort_period' is not defined"
     ]
    }
   ],
   "source": [
    "#aggregate users by cohort group\n",
    "df['Acquisition_Date_2'] = df['Acquisition_Date'].dt.to_period('M')\n",
    "df['Subscription_Date_2'] = df['Subscription_Date'].dt.to_period('M') \n",
    "\n",
    "grouped = dff.groupby(['Acquisition_Date_2', 'Subscription_Date_2','Country'])\n",
    "grouped_1=grouped\n",
    "# count the unique users, per Group + Period\n",
    "cohorts = grouped.agg({'Customer_ID': pd.Series.nunique})\n",
    "\n",
    "# make the column names more meaningful\n",
    "cohorts.rename(columns={'Customer_ID': 'TotalUsers'}, inplace=True)\n",
    "cohorts = cohorts.groupby(['Acquisition_Date_2','Country']).apply(cohort_period)\n",
    "cohorts.head()"
   ]
  },
  {
   "cell_type": "code",
   "execution_count": null,
   "metadata": {},
   "outputs": [],
   "source": [
    "#Label the CohortPeriod for each CohortGroup\n",
    "def retentionbycountryheat (df,country_name,newtablename =\"hey\"):\n",
    "        \"\"\"\n",
    "        Creates an country specific retention rate heatmap\n",
    "\n",
    "        \"\"\"\n",
    "        newtablename = df.xs(country_name,level='Country').reset_index()\n",
    "\n",
    "        newtablename.set_index(['Acquisition_Date_2', 'CohortPeriod'], inplace=True)\n",
    "        # create a Series holding the total size of each CohortGroup\n",
    "        cohort_group_size = newtablename['TotalUsers'].groupby(level=0).first()\n",
    "        newtablename['TotalUsers'].unstack(0)\n",
    "        newtablename  = newtablename['TotalUsers'].unstack(0).divide(cohort_group_size, axis=1)\n",
    "        #plot creation\n",
    "        fig, ax = plt.subplots(figsize=(11,6))   \n",
    "        sns.heatmap(newtablename.T, mask=newtablename.T.isnull(),annot=True, fmt='.0%')\n",
    "        plt.title(\"Retention rate (%) \"+ country_name + \" per CohortGroup\", fontsize=10, fontweight='bold')\n",
    "        plt.show()"
   ]
  },
  {
   "cell_type": "code",
   "execution_count": null,
   "metadata": {
    "collapsed": true
   },
   "outputs": [],
   "source": [
    "def retentionbycountry (df,country_name,newtablename =\"hey\"):\n",
    "        \"\"\"\n",
    "        Creates an country specific retention line plot: average retention rate troughtout periods.\n",
    "\n",
    "        \"\"\"\n",
    "        newtablename = df.xs(country_name,level='Country').reset_index()\n",
    "\n",
    "        newtablename.set_index(['Acquisition_Date_2', 'CohortPeriod'], inplace=True)\n",
    "        # create a Series holding the total size of each CohortGroup\n",
    "        cohort_group_size = newtablename['TotalUsers'].groupby(level=0).first()\n",
    "        newtablename['TotalUsers'].unstack(0)\n",
    "        newtablename  = newtablename['TotalUsers'].unstack(0).divide(cohort_group_size, axis=1)\n",
    "        #plot creation\n",
    "        newtablename.T.mean().plot(figsize=(11,6), marker='s')\n",
    "        plt.title(\"Retention rate (%) \"+ country_name + \" per CohortGroup\", fontsize=10, fontweight='bold')\n",
    "        plt.show()"
   ]
  },
  {
   "cell_type": "code",
   "execution_count": null,
   "metadata": {},
   "outputs": [],
   "source": [
    "retentionbycountryheat(cohorts,'All')"
   ]
  },
  {
   "cell_type": "markdown",
   "metadata": {},
   "source": [
    "The retention rate is good. Dropping from September and the during the winter, don't have enough data to notice a potential seasonality.\n",
    "This is something happening from a cohort group to another. How to overcome this? Is there a type of sport, partners that could compensate for the loss?"
   ]
  },
  {
   "cell_type": "code",
   "execution_count": null,
   "metadata": {},
   "outputs": [],
   "source": [
    "retentionbycountry(cohorts,'Country 1')"
   ]
  },
  {
   "cell_type": "code",
   "execution_count": null,
   "metadata": {},
   "outputs": [],
   "source": [
    "retentionbycountry(cohorts,'Country 2')"
   ]
  },
  {
   "cell_type": "markdown",
   "metadata": {},
   "source": [
    "On top of the heat map the line plot gives us a general idea and easier comparison between countries. \n",
    "The country 1 is more stable than the country 2.\n",
    "You shouldn't worry about the line dropping because not all countries got to the last periods and it's also impacted by winter times."
   ]
  },
  {
   "cell_type": "markdown",
   "metadata": {},
   "source": [
    "**RFM (Recency, Frequency, Monetary) analysis **(Customer segmentation)\n",
    "\n",
    "Segments analyses the past purchase behavior to divide customers into groups.\n",
    "\n",
    "\n",
    "RECENCY (R): Days since last purchase\n",
    "FREQUENCY (F): Total number of purchases\n",
    "MONETARY VALUE (M): Total money this customer spent"
   ]
  },
  {
   "cell_type": "code",
   "execution_count": null,
   "metadata": {},
   "outputs": [],
   "source": [
    "dff['InvoiceNo']=dff['Unnamed: 0']"
   ]
  },
  {
   "cell_type": "code",
   "execution_count": null,
   "metadata": {},
   "outputs": [],
   "source": [
    "dff['Subscription_Date'] = pd.to_datetime(dff['Subscription_Date'])"
   ]
  },
  {
   "cell_type": "code",
   "execution_count": null,
   "metadata": {},
   "outputs": [],
   "source": [
    "#creating the rfm matrix for each user\n",
    "import datetime as dt\n",
    "NOW = dt.datetime(2016,4,1)"
   ]
  },
  {
   "cell_type": "code",
   "execution_count": null,
   "metadata": {},
   "outputs": [],
   "source": [
    "rfmTable = dff.groupby(['Customer_ID','Country']).agg({'Subscription_Date': lambda x: (NOW - x.max()).days, 'InvoiceNo': lambda x: len(x), 'Full_Product_Price': lambda x: x.sum()})\n",
    "rfmTable['Subscription_Date'] = rfmTable['Subscription_Date'].astype(int)\n",
    "rfmTable.rename(columns={'Subscription_Date': 'recency', \n",
    "                         'InvoiceNo': 'frequency', \n",
    "                         'Full_Product_Price': 'monetary_value'}, inplace=True)\n"
   ]
  },
  {
   "cell_type": "code",
   "execution_count": null,
   "metadata": {},
   "outputs": [],
   "source": [
    "rfmTable.head()"
   ]
  },
  {
   "cell_type": "code",
   "execution_count": null,
   "metadata": {},
   "outputs": [],
   "source": [
    "fig, (ax1, ax2,ax3) = plt.subplots(ncols=3, sharey=True, figsize= (10,3))\n",
    "sns.distplot(rfmTable['recency'],ax=ax1)\n",
    "sns.distplot(rfmTable['frequency'],ax=ax2)\n",
    "sns.distplot(rfmTable['monetary_value'],ax=ax3)"
   ]
  },
  {
   "cell_type": "code",
   "execution_count": null,
   "metadata": {},
   "outputs": [],
   "source": [
    "sns.distplot(rfmTable['frequency'])"
   ]
  },
  {
   "cell_type": "code",
   "execution_count": null,
   "metadata": {
    "collapsed": true
   },
   "outputs": [],
   "source": [
    "#split the metrics into segments by using quartiles\n",
    "quantiles = rfmTable.quantile(q=[0.25,0.5,0.75])\n",
    "quantiles = quantiles.to_dict()\n",
    "segmented_rfm = rfmTable"
   ]
  },
  {
   "cell_type": "code",
   "execution_count": null,
   "metadata": {
    "collapsed": true
   },
   "outputs": [],
   "source": [
    "#tag segments\n",
    "def RScore(x,p,d):\n",
    "    if x <= d[p][0.25]:\n",
    "        return 1\n",
    "    elif x <= d[p][0.50]:\n",
    "        return 2\n",
    "    elif x <= d[p][0.75]: \n",
    "        return 3\n",
    "    else:\n",
    "        return 4\n",
    "    \n",
    "def FMScore(x,p,d):\n",
    "    if x <= d[p][0.25]:\n",
    "        return 4\n",
    "    elif x <= d[p][0.50]:\n",
    "        return 3\n",
    "    elif x <= d[p][0.75]: \n",
    "        return 2\n",
    "    else:\n",
    "        return 1"
   ]
  },
  {
   "cell_type": "code",
   "execution_count": null,
   "metadata": {},
   "outputs": [],
   "source": [
    "segmented_rfm['r_quartile'] = segmented_rfm['recency'].apply(RScore, args=('recency',quantiles,))\n",
    "segmented_rfm['f_quartile'] = segmented_rfm['frequency'].apply(FMScore, args=('frequency',quantiles,))\n",
    "segmented_rfm['m_quartile'] = segmented_rfm['monetary_value'].apply(FMScore, args=('monetary_value',quantiles,))\n",
    "segmented_rfm.head()"
   ]
  },
  {
   "cell_type": "code",
   "execution_count": null,
   "metadata": {},
   "outputs": [],
   "source": [
    "#Add a new column to combine RFM score\n",
    "segmented_rfm['RFMScore'] = segmented_rfm.r_quartile.map(str) + segmented_rfm.f_quartile.map(str) + segmented_rfm.m_quartile.map(str)\n",
    "segmented_rfm.head()"
   ]
  },
  {
   "cell_type": "code",
   "execution_count": null,
   "metadata": {
    "collapsed": true
   },
   "outputs": [],
   "source": [
    "def tag_category(df):\n",
    "    if df['RFMScore'] == '111':\n",
    "        return 'Best Customers'\n",
    "    elif df['RFMScore'] == '311':\n",
    "        return 'Almost Lost'\n",
    "    elif df['RFMScore'] == '411':\n",
    "        return 'Lost Customers'\n",
    "    elif df['RFMScore'] == '444':\n",
    "        return 'Lost Cheap Customers'\n",
    "    elif df['f_quartile'] == 1:\n",
    "        return 'Loyal Customers'\n",
    "    elif df['m_quartile'] ==1:\n",
    "        return 'Big Spenders'\n",
    "    else:\n",
    "        return 'Other'"
   ]
  },
  {
   "cell_type": "code",
   "execution_count": null,
   "metadata": {},
   "outputs": [],
   "source": [
    "segmented_rfm2 = segmented_rfm.copy()\n",
    "segmented_rfm2['Category'] = segmented_rfm2.apply(tag_category,axis=1)"
   ]
  },
  {
   "cell_type": "code",
   "execution_count": null,
   "metadata": {},
   "outputs": [],
   "source": [
    "aa = segmented_rfm2.xs('All',level='Country').reset_index()"
   ]
  },
  {
   "cell_type": "code",
   "execution_count": null,
   "metadata": {},
   "outputs": [],
   "source": [
    "lii = aa[aa['RFMScore']=='111'].sort_values('monetary_value', ascending=False)['Customer_ID'].tolist()\n",
    "aa[aa['RFMScore']=='111'].sort_values('monetary_value', ascending=False).head()"
   ]
  },
  {
   "cell_type": "markdown",
   "metadata": {},
   "source": [
    " - **Best Customers (111):** Bought most recently and most often and spend the most\n",
    " **Action:** No price incentives, new products, and loyalty programs\n",
    " - **Loyal Customers (X1X):** Buy most frequently\n",
    "**Action:** Use R and M to further segment\n",
    " - **Big spenders (XX1):** Spend the most\n",
    "**Action:** Market your most expensive products\n",
    " - **Almost Lost (311):** Haven't purchased for some time, but purchased frequently and spend the most\n",
    "**Action:** Aggressive price incentives\n",
    " - **Lost Customers (411):** Haven't purchased for some time, but purchased frequently and spend the most\n",
    "**Action:** Aggressive price incentives\n",
    " - **Lost Cheap Customers (444):** Last purchased long ago, purchased few and spent little\n",
    "**Action:** Don't spend too much trying to re-acquire\n"
   ]
  },
  {
   "cell_type": "code",
   "execution_count": null,
   "metadata": {},
   "outputs": [],
   "source": [
    "lii = aa[aa['RFMScore']=='111'].sort_values('monetary_value', ascending=False)['Customer_ID'].tolist()\n",
    "qq = df[df['Customer_ID'].isin(lii)][['Month','Year','Cost','Country']].reset_index()\n",
    "qq = qq.groupby(['Country','Month','Year'])['Cost'].mean().reset_index()\n",
    "sns.factorplot(data = qq, x = 'Month', y = \"Cost\", \n",
    "               col = 'Year',               \n",
    "               hue= 'Country')"
   ]
  },
  {
   "cell_type": "markdown",
   "metadata": {},
   "source": [
    "Here we are analyzing if the cost has been decreased for our best customers, as suggested above!"
   ]
  },
  {
   "cell_type": "code",
   "execution_count": null,
   "metadata": {},
   "outputs": [],
   "source": [
    "ee = df[df['Customer_ID'].isin(lii)]\n",
    "ee = ee[ee['Month']==3]\n",
    "print('We are talking about ' + str(ee['Cost'].sum())+'€ that could have been spent somewhere else in March 2016.')"
   ]
  },
  {
   "cell_type": "code",
   "execution_count": null,
   "metadata": {
    "scrolled": true
   },
   "outputs": [],
   "source": [
    "luu = aa[aa['RFMScore']=='411'].sort_values('monetary_value', ascending=False)['Customer_ID'].tolist()\n",
    "qq = df[df['Customer_ID'].isin(luu)][['Month','Year','Cost','Country']].reset_index()\n",
    "qq = qq.groupby(['Country','Month','Year'])['Cost'].mean().reset_index()\n",
    "sns.factorplot(data = qq, x = 'Month', y = \"Cost\", \n",
    "               col = 'Year',               \n",
    "               hue= 'Country')"
   ]
  },
  {
   "cell_type": "markdown",
   "metadata": {},
   "source": [
    "However the price costs are higher to get back lost customers."
   ]
  },
  {
   "cell_type": "markdown",
   "metadata": {},
   "source": [
    "**Conclusion:**\n",
    "\n",
    "- Profits are low (left-skewed distribution)\n",
    "- Product 1 is the one generating most of the profit in country 1\n",
    "- 2016 was exceptionally a good performing month:\n",
    "    - Country number 2 first performance during this time of the year (Avg profit by Subscription *6)\n",
    "- Globally Channel 1 has the best profit, but it can depend on the country and product, for example:\n",
    "    - To sell the product 3 in country 1, channel 4 and 2 are better suited (for + profit).\n",
    "- Customer retention is good, drops significantly in autumn/winter, how to overcome it?\n",
    "- There is a customer segmentation possible to allocate budget in a better way."
   ]
  },
  {
   "cell_type": "markdown",
   "metadata": {},
   "source": [
    "## Additional Data"
   ]
  },
  {
   "cell_type": "markdown",
   "metadata": {},
   "source": [
    "- Customer demographic, location \n",
    "- Partner info\n",
    "- Traffic"
   ]
  },
  {
   "cell_type": "markdown",
   "metadata": {},
   "source": [
    "**Visit the Dashboard by clicking [here](https://my-usc-app.herokuapp.com/)!**"
   ]
  }
 ],
 "metadata": {
  "kernelspec": {
   "display_name": "Python 3",
   "language": "python",
   "name": "python3"
  },
  "language_info": {
   "codemirror_mode": {
    "name": "ipython",
    "version": 3
   },
   "file_extension": ".py",
   "mimetype": "text/x-python",
   "name": "python",
   "nbconvert_exporter": "python",
   "pygments_lexer": "ipython3",
   "version": "3.6.4"
  }
 },
 "nbformat": 4,
 "nbformat_minor": 2
}
